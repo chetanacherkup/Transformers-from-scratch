{
 "cells": [
  {
   "cell_type": "code",
   "execution_count": 9,
   "id": "97f4b113-718c-4192-882b-d9943e212b72",
   "metadata": {},
   "outputs": [],
   "source": [
    "import torch\n",
    "import torch.nn as nn\n",
    "import math"
   ]
  },
  {
   "cell_type": "code",
   "execution_count": 10,
   "id": "094846dc-cf36-4175-8b34-155449b48b98",
   "metadata": {},
   "outputs": [
    {
     "ename": "NameError",
     "evalue": "name 'InputEmbeddings' is not defined",
     "output_type": "error",
     "traceback": [
      "\u001b[0;31m---------------------------------------------------------------------------\u001b[0m",
      "\u001b[0;31mNameError\u001b[0m                                 Traceback (most recent call last)",
      "Cell \u001b[0;32mIn[10], line 9\u001b[0m\n\u001b[1;32m      5\u001b[0m d_ff \u001b[38;5;241m=\u001b[39m \u001b[38;5;241m16\u001b[39m\n\u001b[1;32m      8\u001b[0m \u001b[38;5;66;03m# Create instances of both layers\u001b[39;00m\n\u001b[0;32m----> 9\u001b[0m embedding_layer \u001b[38;5;241m=\u001b[39m InputEmbeddings(d_model, vocab_size)\n\u001b[1;32m     10\u001b[0m pos_encoding_layer \u001b[38;5;241m=\u001b[39m PositionalEncoding(d_model, seq_len, dropout)\n\u001b[1;32m     11\u001b[0m normalization_layer \u001b[38;5;241m=\u001b[39m LayerNormalization()\n",
      "\u001b[0;31mNameError\u001b[0m: name 'InputEmbeddings' is not defined"
     ]
    }
   ],
   "source": [
    "d_model = 8\n",
    "vocab_size = 10\n",
    "seq_len = 5\n",
    "dropout = 0.1\n",
    "d_ff = 16\n",
    "\n",
    "\n",
    "# Create instances of both layers\n",
    "embedding_layer = InputEmbeddings(d_model, vocab_size)\n",
    "pos_encoding_layer = PositionalEncoding(d_model, seq_len, dropout)\n",
    "normalization_layer = LayerNormalization()\n",
    "ff_block = FeedForwardBlock(d_model, d_ff, dropout)\n",
    "\n",
    "\n",
    "# Sample input (batch_size=1, sequence_length=5)\n",
    "input_tensor = torch.tensor([[1, 3, 5, 7]])\n",
    "x = torch.randn(1, 4, d_model)\n",
    "output = ff_block(x)\n",
    "\n",
    "\n",
    "# Pass through the embedding layer\n",
    "embedded_output = embedding_layer(input_tensor)\n",
    "print(\"Embedding Output:\\n\", embedded_output)\n",
    "print(embedded_output.shape)\n",
    "\n",
    "# Pass through positional encoding\n",
    "positional_output = pos_encoding_layer(embedded_output)\n",
    "print(\"\\nFinal Output with Positional Encoding:\\n\", positional_output)\n",
    "print(positional_output.shape)\n",
    "\n",
    "\n",
    "#Pass through layer normalisation\n",
    "\n",
    "normalization_output = normalization_layer(positional_output)\n",
    "print(\"Normalizationoutput:\\n\", normalization_output  )\n",
    "print(normalization_output.shape)\n",
    "\n",
    "\n",
    "ff_output = ff_block(normalization_output)\n",
    "print(\"\\nFeedForwardBlock Output:\\n\", ff_output)\n",
    "print(ff_output.shape)\n",
    "\n",
    "\n"
   ]
  },
  {
   "cell_type": "code",
   "execution_count": 12,
   "id": "14f653f8-23e8-47e0-a405-e4786b4877f7",
   "metadata": {},
   "outputs": [
    {
     "name": "stdout",
     "output_type": "stream",
     "text": [
      "Input shape (q): torch.Size([2, 5, 16])\n",
      "Weight matrix shape: torch.Size([4, 16])\n",
      "Output shape (query): torch.Size([2, 5, 4])\n"
     ]
    }
   ],
   "source": [
    "w_q = nn.Linear(16, 4) # Create a linear layer (input size = 16, output size = 4)\n",
    "\n",
    "q = torch.randn(2, 5, 16) # Random input (batch_size=2, seq_len=5, in_features=16)\n",
    "\n",
    "query = w_q(q)\n",
    "\n",
    "print(\"Input shape (q):\", q.shape)       # (2, 5, 16)\n",
    "print(\"Weight matrix shape:\", w_q.weight.shape)  # (4, 16)\n",
    "print(\"Output shape (query):\", query.shape) # (2, 5, 16)"
   ]
  },
  {
   "cell_type": "code",
   "execution_count": 14,
   "id": "acae028d-5ba5-409b-bd49-e62b62cdb74e",
   "metadata": {},
   "outputs": [
    {
     "name": "stdout",
     "output_type": "stream",
     "text": [
      "Input shape: torch.Size([2, 5, 8])\n",
      "tensor([[[-0.5414,  0.0363,  1.8476,  0.8906, -0.6709,  0.2109, -0.2200,\n",
      "          -2.2826],\n",
      "         [ 1.9173,  0.2386, -2.3004, -0.0240, -0.7232,  0.4287, -0.7090,\n",
      "           0.7217],\n",
      "         [-0.3315, -0.3349,  0.0930,  1.3573, -0.2473,  0.3514,  0.7035,\n",
      "          -0.4245],\n",
      "         [-0.2432, -0.7017, -2.0934, -0.0624,  0.4783, -2.1188,  1.2441,\n",
      "           0.5127],\n",
      "         [ 0.3284, -0.2045, -0.7348,  1.3395, -0.0851, -0.1955, -0.6928,\n",
      "          -0.3188]],\n",
      "\n",
      "        [[-0.2326,  0.0592,  1.6186,  0.7504,  0.9805,  0.3524, -0.1586,\n",
      "           1.3551],\n",
      "         [ 0.3570, -0.0460,  0.5032,  1.6391, -1.2233,  0.5947,  0.9656,\n",
      "           1.6661],\n",
      "         [-0.4806,  2.4774, -0.7250, -2.7321, -1.0512, -1.3284, -0.0685,\n",
      "           0.2854],\n",
      "         [-0.5443,  1.2187,  1.1219, -0.5851,  0.7135, -0.0165, -0.4616,\n",
      "           0.2723],\n",
      "         [ 1.9462,  1.6042,  0.1896,  0.9888,  0.7902,  0.6098,  0.8380,\n",
      "          -0.6276]]])\n"
     ]
    }
   ],
   "source": [
    "batch_size = 2       # 2 sequences in one batch\n",
    "seq_len = 5          # Each sequence has 5 time steps\n",
    "feature_size = 8     # Each time step has 8 features\n",
    "\n",
    "x = torch.randn(batch_size, seq_len, feature_size)\n",
    "print(\"Input shape:\", x.shape) \n",
    "print(x)"
   ]
  },
  {
   "cell_type": "code",
   "execution_count": 16,
   "id": "668a1d51-e0cf-4ece-9700-0deaa7d522a2",
   "metadata": {},
   "outputs": [
    {
     "name": "stdout",
     "output_type": "stream",
     "text": [
      "Hi, my name is Keer and I'm 25 years old.\n",
      "Hi, my name is Bob and I'm 30 years old.\n",
      "I am going to talk about Artificial Intelligence\n"
     ]
    }
   ],
   "source": [
    "class Person:\n",
    "    def __init__(self, name, age):\n",
    "        self.name = name  \n",
    "        self.age = age\n",
    "\n",
    "    def introduce(self, new_name=None):\n",
    "        if new_name:  # If a new name is provided, update it\n",
    "            self.name = new_name\n",
    "        print(f\"Hi, my name is {self.name} and I'm {self.age} years old.\")\n",
    "        \n",
    "    def speech(self, topic: str):\n",
    "        print(f\"I am going to talk about {topic}\")\n",
    "\n",
    "p1 = Person(\"Alice\", 25)\n",
    "p2 = Person(\"Bob\", 30)\n",
    "\n",
    "p1.introduce(\"Keer\")  # Alice changes her name to Keer\n",
    "p2.introduce()  # Bob introduces himself\n",
    "p1.speech(\"Artificial Intelligence\")  # Alice talks about AI"
   ]
  },
  {
   "cell_type": "code",
   "execution_count": 3,
   "id": "dcca92e9-4054-478f-879b-0f2a596f60a1",
   "metadata": {},
   "outputs": [
    {
     "name": "stdout",
     "output_type": "stream",
     "text": [
      "tensor([1, 3, 4, 5, 2, 0, 0])\n"
     ]
    }
   ],
   "source": [
    "import torch\n",
    "\n",
    "# Example tokens and padding\n",
    "sos_token = torch.tensor([1], dtype=torch.int64)  # Start-of-sequence token\n",
    "eos_token = torch.tensor([2], dtype=torch.int64)  # End-of-sequence token\n",
    "pad_token = 0  # Padding token\n",
    "enc_input_token = [3, 4, 5]  # Example input tokens\n",
    "enc_num_padding_tokens = 2  # Number of padding tokens\n",
    "\n",
    "# Concatenate all parts\n",
    "encoder_input = torch.cat(\n",
    "    [\n",
    "        sos_token,\n",
    "        torch.tensor(enc_input_token, dtype=torch.int64),\n",
    "        eos_token,\n",
    "        torch.tensor([pad_token] * enc_num_padding_tokens, dtype=torch.int64)\n",
    "    ]\n",
    ")\n",
    "\n",
    "print(encoder_input)"
   ]
  },
  {
   "cell_type": "code",
   "execution_count": null,
   "id": "5b46bb55-e890-48a8-a69f-177559b96231",
   "metadata": {},
   "outputs": [],
   "source": []
  }
 ],
 "metadata": {
  "kernelspec": {
   "display_name": "Python [conda env:base] *",
   "language": "python",
   "name": "conda-base-py"
  },
  "language_info": {
   "codemirror_mode": {
    "name": "ipython",
    "version": 3
   },
   "file_extension": ".py",
   "mimetype": "text/x-python",
   "name": "python",
   "nbconvert_exporter": "python",
   "pygments_lexer": "ipython3",
   "version": "3.12.7"
  }
 },
 "nbformat": 4,
 "nbformat_minor": 5
}
